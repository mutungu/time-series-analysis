{
 "cells": [
  {
   "cell_type": "markdown",
   "id": "d77ea2dc",
   "metadata": {},
   "source": [
    "# Time Series Modeling for Real Estate Investments: A Consultant's Guide to Identifying the Best Zip Codes using Zillow Research Data"
   ]
  },
  {
   "cell_type": "markdown",
   "id": "1a4240b6",
   "metadata": {},
   "source": [
    "# Overview\n",
    "What do we mean by Real Estate?\n",
    "\n",
    "Real estate refers to land, buildings, and other physical property, including natural resources such as crops, minerals, or water, that can be bought, sold, leased, or rented for various purposes. Real estate is a significant part of the global economy and is used for residential, commercial, industrial, and agricultural purposes. Real estate investments can provide both short-term and long-term returns through rental income, property appreciation, and value-added investments such as renovations and developments.\n",
    "\n",
    "With a population of over 330 million, The real estate industry in the USA is a significant contributor to the country's economy, accounting for approximately 6% of the Gross Domestic Product (GDP). This industry comprises of various sub-sectors, including residential and commercial real estate, real estate development, property management, and real estate investment trusts (REITs)."
   ]
  },
  {
   "cell_type": "markdown",
   "id": "0656b326",
   "metadata": {},
   "source": [
    "# a. Specifying the Data Analytic Question\n",
    "\n",
    "Problem statement\n",
    "\n",
    "Real estate represents a significant portion of most people's wealth, and this is especially true for many homeowners in the United States. A number of factors drive the real estate market including government policies, demographics of the potential buyers,affordability, disparity in housing access, location, cash flows and liquidity as well as the current economic climate. The many variables can make the process tedious for the buyers. Naruto consultants hopes to create a predictive time series model that can help to determine the top five zipcodes in which to invest in.\n",
    "\n",
    "Main Objectives\n",
    "\n",
    "To develop a time series model that would predict the top five zipcodes to invest in\n",
    "Specific Objectives\n",
    "To act as a consultant for Naruto investment firm and provide a solid recommendation for the top 5 best zip codes for investment\n",
    "To find change in house returns over time\n",
    "b. Metric of Success\n",
    "The model will be considered a success if it achieves a RMSE of less than 5% and the highest ROI"
   ]
  },
  {
   "cell_type": "markdown",
   "id": "500ab55e",
   "metadata": {},
   "source": [
    "c. Recording the Experimental Design\n",
    "\n",
    "\n",
    "Importing Libraries\n",
    "Loading the Dataset\n",
    "Tidying the data\n",
    "External data source validation\n",
    "Performing Exploratory Data Analysis\n",
    "Model Development and Model performance evaluation\n",
    "Use model to forecast the prices\n",
    "Conclusions and Future Improvement Ideas\n",
    "d. Data Understanding\n",
    "\n",
    "\n",
    "This Dataset was obtained from Zillow website and comprises of 14723 rows and 272 columns in Wide Format.\n",
    "\n"
   ]
  },
  {
   "cell_type": "code",
   "execution_count": null,
   "id": "63928bc3",
   "metadata": {},
   "outputs": [],
   "source": []
  }
 ],
 "metadata": {
  "kernelspec": {
   "display_name": "Python (learn-env)",
   "language": "python",
   "name": "learn-env"
  },
  "language_info": {
   "codemirror_mode": {
    "name": "ipython",
    "version": 3
   },
   "file_extension": ".py",
   "mimetype": "text/x-python",
   "name": "python",
   "nbconvert_exporter": "python",
   "pygments_lexer": "ipython3",
   "version": "3.9.13"
  }
 },
 "nbformat": 4,
 "nbformat_minor": 5
}
